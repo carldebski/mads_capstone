{
 "cells": [
  {
   "cell_type": "code",
   "execution_count": 2,
   "metadata": {},
   "outputs": [],
   "source": [
    "%load_ext autoreload\n",
    "%autoreload 2\n",
    "\n",
    "import gtab\n",
    "import matplotlib.pyplot as plt\n",
    "import gensim.downloader\n",
    "from gensim.similarities.fastss import FastSS\n",
    "import numpy as np\n",
    "\n",
    "\n",
    "TERM = 'coffee'"
   ]
  },
  {
   "cell_type": "code",
   "execution_count": 23,
   "metadata": {},
   "outputs": [],
   "source": [
    "# gensim pre-trained model descriptions: https://github.com/piskvorky/gensim-data \n",
    "\n",
    "# show all available models in gensim-data\n",
    "# print(list(gensim.downloader.info()['models'].keys()))\n",
    "\n",
    "# models: \n",
    "# ['fasttext-wiki-news-subwords-300', \n",
    "#  'conceptnet-numberbatch-17-06-300', \n",
    "#  'word2vec-ruscorpora-300', \n",
    "#  'word2vec-google-news-300', \n",
    "#  'glove-wiki-gigaword-50', \n",
    "#  'glove-wiki-gigaword-100', \n",
    "#  'glove-wiki-gigaword-200', \n",
    "#  'glove-wiki-gigaword-300', \n",
    "#  'glove-twitter-25', \n",
    "#  'glove-twitter-50', \n",
    "#  'glove-twitter-100', \n",
    "#  'glove-twitter-200', \n",
    "#  '__testing_word2vec-matrix-synopsis']\n",
    "\n",
    "# Download the embeddings\n",
    "vectors = gensim.downloader.load('fasttext-wiki-news-subwords-300')"
   ]
  },
  {
   "cell_type": "code",
   "execution_count": 66,
   "metadata": {},
   "outputs": [
    {
     "data": {
      "text/plain": [
       "[('coffees', 0.8029797673225403),\n",
       " ('coffeee', 0.769917368888855),\n",
       " ('non-coffee', 0.7645688056945801),\n",
       " ('tea', 0.7583761215209961),\n",
       " ('coffe', 0.7542309165000916),\n",
       " ('coffee-', 0.7451688647270203),\n",
       " ('cappuccino', 0.7182677984237671),\n",
       " ('coffee.', 0.7153727412223816),\n",
       " ('decaf', 0.7138857245445251),\n",
       " ('coffee-making', 0.7045937776565552),\n",
       " ('cofee', 0.7013275623321533),\n",
       " ('coffeeshop', 0.700702965259552),\n",
       " ('cappuccinos', 0.6931853890419006),\n",
       " ('cocoa', 0.6903727054595947),\n",
       " ('frappuccino', 0.689350426197052),\n",
       " ('coffee-based', 0.6892397403717041),\n",
       " ('coffee-cup', 0.6876373291015625),\n",
       " ('coffee-drinking', 0.6856929659843445),\n",
       " ('cappucino', 0.6825922131538391),\n",
       " ('coffeemaker', 0.6734102368354797),\n",
       " ('roastery', 0.6701763272285461),\n",
       " ('coffee-maker', 0.6700218319892883),\n",
       " ('coffee-pot', 0.6650169491767883),\n",
       " ('coffee-break', 0.6649143099784851),\n",
       " ('Coffee', 0.6630643010139465),\n",
       " ('cuppa', 0.6581753492355347),\n",
       " ('frappuccinos', 0.656207263469696),\n",
       " ('frappucino', 0.654935896396637),\n",
       " ('cupper', 0.6547729969024658),\n",
       " ('decaffeinated', 0.6546977162361145),\n",
       " ('caffe', 0.6538578271865845),\n",
       " ('coffee-shop', 0.6475527286529541),\n",
       " ('coffeeshops', 0.6428966522216797),\n",
       " ('decaff', 0.641983687877655),\n",
       " ('tea-', 0.6417416334152222),\n",
       " ('coffeehouse', 0.64157634973526),\n",
       " ('cuppas', 0.6375350952148438),\n",
       " ('coffeepot', 0.6370639204978943),\n",
       " ('banoffee', 0.6341829895973206),\n",
       " ('cuppers', 0.6317151784896851),\n",
       " ('chocolate', 0.6304050087928772),\n",
       " ('beer', 0.6293947696685791),\n",
       " ('coffee-flavoured', 0.6246042847633362),\n",
       " ('coffee-flavored', 0.6239027976989746),\n",
       " ('espresso', 0.6232336759567261),\n",
       " ('cafe', 0.6211356520652771),\n",
       " ('coffee-house', 0.6207676529884338),\n",
       " ('fruit-juice', 0.6201227307319641),\n",
       " ('Frappuccino', 0.6169964075088501),\n",
       " ('starbucks', 0.6169012784957886),\n",
       " ('creamer', 0.6153682470321655),\n",
       " ('roasters', 0.6149591207504272),\n",
       " ('roaster', 0.6140983700752258),\n",
       " ('beans', 0.6109246015548706),\n",
       " ('decaffeination', 0.6101943254470825),\n",
       " ('softdrinks', 0.6088569164276123),\n",
       " ('caffeinated', 0.6087904572486877),\n",
       " ('caffeine', 0.6070045828819275),\n",
       " ('slurpee', 0.6059302687644958),\n",
       " ('coffee-related', 0.6057568788528442),\n",
       " ('Starbucks', 0.6049610376358032),\n",
       " ('capuccino', 0.6037871837615967),\n",
       " ('drinks', 0.6034125089645386),\n",
       " ('caffeine-free', 0.602783203125),\n",
       " ('mocha', 0.6026402711868286),\n",
       " ('coffeemakers', 0.6016658544540405),\n",
       " ('single-cup', 0.5982537269592285),\n",
       " ('Frappuccinos', 0.5975357294082642),\n",
       " ('coffee-makers', 0.5969632267951965),\n",
       " ('coffeehouses', 0.5967034697532654),\n",
       " ('caffine', 0.5957576036453247),\n",
       " ('coffee-shops', 0.5956007838249207),\n",
       " ('Coffees', 0.595063328742981),\n",
       " ('café', 0.5946242809295654),\n",
       " ('macchiato', 0.5936091542243958),\n",
       " ('beverage', 0.5925313830375671),\n",
       " ('percolator', 0.5911358594894409),\n",
       " ('coffee-room', 0.5909788012504578),\n",
       " ('peanut-butter', 0.5908977389335632),\n",
       " ('sugarfree', 0.5900570750236511),\n",
       " ('coffee-growing', 0.5894629955291748),\n",
       " ('teabags', 0.5882782936096191),\n",
       " ('cup', 0.5876021385192871),\n",
       " ('caffè', 0.5874128341674805),\n",
       " ('coffee-stained', 0.5873660445213318),\n",
       " ('soda', 0.5869497656822205),\n",
       " ('fair-trade', 0.5868018865585327),\n",
       " ('shade-grown', 0.583665132522583),\n",
       " ('coffea', 0.5836225152015686),\n",
       " ('Frappucino', 0.5831878781318665),\n",
       " ('cocoanut', 0.5831842422485352),\n",
       " ('lunch', 0.5830017328262329),\n",
       " ('liqour', 0.5821453332901001),\n",
       " ('coca-cola', 0.5817528963088989),\n",
       " ('snacker', 0.581641435623169),\n",
       " ('coffee-producing', 0.5813668966293335),\n",
       " ('cacao', 0.5808228850364685),\n",
       " ('cocoanuts', 0.5806460976600647),\n",
       " ('breakfast', 0.5797709226608276)]"
      ]
     },
     "execution_count": 66,
     "metadata": {},
     "output_type": "execute_result"
    }
   ],
   "source": [
    "# most similar word embeddings\n",
    "vectors.most_similar('coffee', topn=99)"
   ]
  },
  {
   "cell_type": "code",
   "execution_count": 4,
   "metadata": {},
   "outputs": [],
   "source": [
    "from get_related_words import get_similar_words"
   ]
  },
  {
   "cell_type": "code",
   "execution_count": 8,
   "metadata": {},
   "outputs": [
    {
     "data": {
      "text/plain": [
       "{'coffee': ['non-coffee', 'tea', 'cappuccino', 'decaf', 'coffee-making']}"
      ]
     },
     "execution_count": 8,
     "metadata": {},
     "output_type": "execute_result"
    }
   ],
   "source": [
    "get_similar_words('coffee')"
   ]
  },
  {
   "cell_type": "code",
   "execution_count": null,
   "metadata": {},
   "outputs": [],
   "source": [
    "from cdebski.get_related_words import get_synonyms\n",
    "from cdebski.get_related_words import get_hyponyms\n",
    "from cdebski.get_related_words import get_related_queries\n",
    "from cdebski.get_related_words import get_suggested_queries"
   ]
  },
  {
   "cell_type": "code",
   "execution_count": 27,
   "metadata": {},
   "outputs": [
    {
     "name": "stdout",
     "output_type": "stream",
     "text": [
      "synonyms: these words mean the same as the search term\n",
      "['auto', 'automobile', 'machine', 'motorcar']\n",
      "['railcar', 'railroad_car', 'railway_car']\n",
      "['gondola']\n",
      "['elevator_car']\n",
      "['cable_car']\n"
     ]
    }
   ],
   "source": [
    "TERM = 'car'\n",
    "\n",
    "synonyms = get_synonyms(TERM)\n",
    "print('synonyms: these words mean the same as the search term')\n",
    "for term in synonyms:\n",
    "    print(term)"
   ]
  },
  {
   "cell_type": "code",
   "execution_count": 7,
   "metadata": {},
   "outputs": [
    {
     "name": "stdout",
     "output_type": "stream",
     "text": [
      "hyponyms: these words are subordinate synonyms i.e. horse is a hyponym to animal\n",
      "['coffee_substitute']\n",
      "['decaffeinated_coffee', 'decaf']\n",
      "['cappuccino', 'cappuccino_coffee', 'coffee_cappuccino']\n",
      "['cafe_royale', 'coffee_royal']\n",
      "['Turkish_coffee']\n",
      "['instant_coffee']\n",
      "['mocha', 'mocha_coffee']\n",
      "['espresso']\n",
      "['Irish_coffee']\n",
      "['iced_coffee', 'ice_coffee']\n",
      "['drip_coffee']\n",
      "['cafe_noir', 'demitasse']\n",
      "['cafe_au_lait']\n"
     ]
    }
   ],
   "source": [
    "hyponyms = get_hyponyms(TERM)\n",
    "print('hyponyms: these words are subordinate synonyms i.e. horse is a hyponym to animal')\n",
    "for term in hyponyms:\n",
    "    print(term)"
   ]
  },
  {
   "cell_type": "code",
   "execution_count": 8,
   "metadata": {},
   "outputs": [
    {
     "name": "stdout",
     "output_type": "stream",
     "text": [
      "suggested queries: google trends suggested terms to refine search dropdown\n",
      "{'mid': '/m/02vqfm', 'title': 'Coffee', 'type': 'Beverage'}\n",
      "{'mid': '/m/078n6m', 'title': 'Coffee table', 'type': 'Topic'}\n",
      "{'mid': '/m/07xyvk', 'title': 'Coffeemaker', 'type': 'Topic'}\n",
      "{'mid': '/m/0h3nq30', 'title': 'Coffee', 'type': 'Color'}\n",
      "{'mid': '/m/01p1qs', 'title': 'French press', 'type': 'Topic'}\n"
     ]
    }
   ],
   "source": [
    "suggestions = get_suggested_queries(TERM)\n",
    "print('suggested queries: google trends suggested terms to refine search dropdown')\n",
    "for term in suggestions:\n",
    "    print(term)"
   ]
  },
  {
   "cell_type": "code",
   "execution_count": 9,
   "metadata": {},
   "outputs": [
    {
     "ename": "IndexError",
     "evalue": "list index out of range",
     "output_type": "error",
     "traceback": [
      "\u001b[1;31m---------------------------------------------------------------------------\u001b[0m",
      "\u001b[1;31mIndexError\u001b[0m                                Traceback (most recent call last)",
      "Cell \u001b[1;32mIn[9], line 1\u001b[0m\n\u001b[1;32m----> 1\u001b[0m related \u001b[38;5;241m=\u001b[39m \u001b[43mget_related_queries\u001b[49m\u001b[43m(\u001b[49m\u001b[43mTERM\u001b[49m\u001b[43m)\u001b[49m\n\u001b[0;32m      2\u001b[0m \u001b[38;5;66;03m# print('related queries: google trends related queries')\u001b[39;00m\n\u001b[0;32m      3\u001b[0m \u001b[38;5;66;03m# for term in suggestions:\u001b[39;00m\n\u001b[0;32m      4\u001b[0m \u001b[38;5;66;03m#     print(term)\u001b[39;00m\n",
      "File \u001b[1;32mc:\\Users\\carld\\OneDrive\\Python\\Workspaces\\mads_capstone\\cdebski\\get_related_terms.py:34\u001b[0m, in \u001b[0;36mget_related_queries\u001b[1;34m(term)\u001b[0m\n\u001b[0;32m     32\u001b[0m pytrends \u001b[38;5;241m=\u001b[39m TrendReq(hl\u001b[38;5;241m=\u001b[39m\u001b[38;5;124m'\u001b[39m\u001b[38;5;124men-US\u001b[39m\u001b[38;5;124m'\u001b[39m, tz\u001b[38;5;241m=\u001b[39m\u001b[38;5;241m300\u001b[39m) \n\u001b[0;32m     33\u001b[0m pytrends\u001b[38;5;241m.\u001b[39mbuild_payload([term], cat\u001b[38;5;241m=\u001b[39m\u001b[38;5;241m0\u001b[39m, timeframe\u001b[38;5;241m=\u001b[39m\u001b[38;5;124m'\u001b[39m\u001b[38;5;124mtoday 5-y\u001b[39m\u001b[38;5;124m'\u001b[39m, geo\u001b[38;5;241m=\u001b[39m\u001b[38;5;124m'\u001b[39m\u001b[38;5;124m'\u001b[39m, gprop\u001b[38;5;241m=\u001b[39m\u001b[38;5;124m'\u001b[39m\u001b[38;5;124m'\u001b[39m)\n\u001b[1;32m---> 34\u001b[0m df \u001b[38;5;241m=\u001b[39m \u001b[43mpytrends\u001b[49m\u001b[38;5;241;43m.\u001b[39;49m\u001b[43mrelated_queries\u001b[49m\u001b[43m(\u001b[49m\u001b[43m)\u001b[49m\n\u001b[0;32m     36\u001b[0m \u001b[38;5;28;01mreturn\u001b[39;00m df\n",
      "File \u001b[1;32mc:\\Users\\carld\\miniconda3\\envs\\mads\\Lib\\site-packages\\pytrends\\request.py:450\u001b[0m, in \u001b[0;36mTrendReq.related_queries\u001b[1;34m(self)\u001b[0m\n\u001b[0;32m    447\u001b[0m \u001b[38;5;66;03m# top queries\u001b[39;00m\n\u001b[0;32m    448\u001b[0m \u001b[38;5;28;01mtry\u001b[39;00m:\n\u001b[0;32m    449\u001b[0m     top_df \u001b[38;5;241m=\u001b[39m pd\u001b[38;5;241m.\u001b[39mDataFrame(\n\u001b[1;32m--> 450\u001b[0m         \u001b[43mreq_json\u001b[49m\u001b[43m[\u001b[49m\u001b[38;5;124;43m'\u001b[39;49m\u001b[38;5;124;43mdefault\u001b[39;49m\u001b[38;5;124;43m'\u001b[39;49m\u001b[43m]\u001b[49m\u001b[43m[\u001b[49m\u001b[38;5;124;43m'\u001b[39;49m\u001b[38;5;124;43mrankedList\u001b[39;49m\u001b[38;5;124;43m'\u001b[39;49m\u001b[43m]\u001b[49m\u001b[43m[\u001b[49m\u001b[38;5;241;43m0\u001b[39;49m\u001b[43m]\u001b[49m[\u001b[38;5;124m'\u001b[39m\u001b[38;5;124mrankedKeyword\u001b[39m\u001b[38;5;124m'\u001b[39m])\n\u001b[0;32m    451\u001b[0m     top_df \u001b[38;5;241m=\u001b[39m top_df[[\u001b[38;5;124m'\u001b[39m\u001b[38;5;124mquery\u001b[39m\u001b[38;5;124m'\u001b[39m, \u001b[38;5;124m'\u001b[39m\u001b[38;5;124mvalue\u001b[39m\u001b[38;5;124m'\u001b[39m]]\n\u001b[0;32m    452\u001b[0m \u001b[38;5;28;01mexcept\u001b[39;00m \u001b[38;5;167;01mKeyError\u001b[39;00m:\n\u001b[0;32m    453\u001b[0m     \u001b[38;5;66;03m# in case no top queries are found, the lines above will throw a KeyError\u001b[39;00m\n",
      "\u001b[1;31mIndexError\u001b[0m: list index out of range"
     ]
    }
   ],
   "source": [
    "related = get_related_queries(TERM)\n",
    "# print('related queries: google trends related queries')\n",
    "# for term in suggestions:\n",
    "#     print(term)"
   ]
  },
  {
   "cell_type": "code",
   "execution_count": null,
   "metadata": {},
   "outputs": [],
   "source": [
    "t = gtab.GTAB()\n",
    "t.set_options(pytrends_config={\"timeframe\": \"2020-01-01 2024-10-01\"})\n",
    "query_rog = t.new_query(\"Instant Coffee\")\n",
    "query_steam = t.new_query(\"Iced Coffee\")"
   ]
  },
  {
   "cell_type": "code",
   "execution_count": null,
   "metadata": {},
   "outputs": [],
   "source": [
    "# plot the two separate queries\n",
    "plt.plot(query_rog.index, query_rog.max_ratio, label='ROG Ally')\n",
    "plt.plot(query_steam.index, query_steam.max_ratio, label='Steam Deck')\n",
    "plt.legend()\n",
    "plt.title('Independent Google Trends Queries with the Same Scale')\n",
    "plt.show()"
   ]
  }
 ],
 "metadata": {
  "kernelspec": {
   "display_name": "mads",
   "language": "python",
   "name": "python3"
  },
  "language_info": {
   "codemirror_mode": {
    "name": "ipython",
    "version": 3
   },
   "file_extension": ".py",
   "mimetype": "text/x-python",
   "name": "python",
   "nbconvert_exporter": "python",
   "pygments_lexer": "ipython3",
   "version": "3.12.3"
  }
 },
 "nbformat": 4,
 "nbformat_minor": 2
}
