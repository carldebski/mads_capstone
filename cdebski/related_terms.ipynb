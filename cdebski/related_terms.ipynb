{
 "cells": [
  {
   "cell_type": "code",
   "execution_count": 11,
   "metadata": {},
   "outputs": [
    {
     "name": "stdout",
     "output_type": "stream",
     "text": [
      "The autoreload extension is already loaded. To reload it, use:\n",
      "  %reload_ext autoreload\n"
     ]
    }
   ],
   "source": [
    "%load_ext autoreload\n",
    "%autoreload 2\n",
    "\n",
    "import gtab\n",
    "import matplotlib.pyplot as plt\n",
    "import gensim.downloader\n",
    "from gensim.similarities.fastss import FastSS\n",
    "import numpy as np"
   ]
  },
  {
   "cell_type": "code",
   "execution_count": 12,
   "metadata": {},
   "outputs": [],
   "source": [
    "from get_related_words import get_similar_words"
   ]
  },
  {
   "cell_type": "code",
   "execution_count": 23,
   "metadata": {},
   "outputs": [],
   "source": [
    "TERM = 'Asus ROG'"
   ]
  },
  {
   "cell_type": "code",
   "execution_count": 24,
   "metadata": {},
   "outputs": [
    {
     "name": "stdout",
     "output_type": "stream",
     "text": [
      "Loading saved model...\n"
     ]
    },
    {
     "data": {
      "text/plain": [
       "{'asusrog': ['asusrog']}"
      ]
     },
     "execution_count": 24,
     "metadata": {},
     "output_type": "execute_result"
    }
   ],
   "source": [
    "get_similar_words(TERM, n_words=50)"
   ]
  },
  {
   "cell_type": "code",
   "execution_count": 8,
   "metadata": {},
   "outputs": [
    {
     "ename": "ModuleNotFoundError",
     "evalue": "No module named 'cdebski'",
     "output_type": "error",
     "traceback": [
      "\u001b[1;31m---------------------------------------------------------------------------\u001b[0m",
      "\u001b[1;31mModuleNotFoundError\u001b[0m                       Traceback (most recent call last)",
      "Cell \u001b[1;32mIn[8], line 1\u001b[0m\n\u001b[1;32m----> 1\u001b[0m \u001b[38;5;28;01mfrom\u001b[39;00m \u001b[38;5;21;01mcdebski\u001b[39;00m\u001b[38;5;21;01m.\u001b[39;00m\u001b[38;5;21;01mget_related_words\u001b[39;00m \u001b[38;5;28;01mimport\u001b[39;00m get_synonyms\n\u001b[0;32m      2\u001b[0m \u001b[38;5;28;01mfrom\u001b[39;00m \u001b[38;5;21;01mcdebski\u001b[39;00m\u001b[38;5;21;01m.\u001b[39;00m\u001b[38;5;21;01mget_related_words\u001b[39;00m \u001b[38;5;28;01mimport\u001b[39;00m get_hyponyms\n\u001b[0;32m      3\u001b[0m \u001b[38;5;28;01mfrom\u001b[39;00m \u001b[38;5;21;01mcdebski\u001b[39;00m\u001b[38;5;21;01m.\u001b[39;00m\u001b[38;5;21;01mget_related_words\u001b[39;00m \u001b[38;5;28;01mimport\u001b[39;00m get_related_queries\n",
      "\u001b[1;31mModuleNotFoundError\u001b[0m: No module named 'cdebski'"
     ]
    }
   ],
   "source": [
    "from cdebski.get_related_words import get_synonyms\n",
    "from cdebski.get_related_words import get_hyponyms\n",
    "from cdebski.get_related_words import get_related_queries\n",
    "from cdebski.get_related_words import get_suggested_queries"
   ]
  },
  {
   "cell_type": "code",
   "execution_count": null,
   "metadata": {},
   "outputs": [
    {
     "ename": "NameError",
     "evalue": "name 'get_synonyms' is not defined",
     "output_type": "error",
     "traceback": [
      "\u001b[1;31m---------------------------------------------------------------------------\u001b[0m",
      "\u001b[1;31mNameError\u001b[0m                                 Traceback (most recent call last)",
      "Cell \u001b[1;32mIn[7], line 3\u001b[0m\n\u001b[0;32m      1\u001b[0m TERM \u001b[38;5;241m=\u001b[39m \u001b[38;5;124m'\u001b[39m\u001b[38;5;124mcar\u001b[39m\u001b[38;5;124m'\u001b[39m\n\u001b[1;32m----> 3\u001b[0m synonyms \u001b[38;5;241m=\u001b[39m \u001b[43mget_synonyms\u001b[49m(TERM)\n\u001b[0;32m      4\u001b[0m \u001b[38;5;28mprint\u001b[39m(\u001b[38;5;124m'\u001b[39m\u001b[38;5;124msynonyms: these words mean the same as the search term\u001b[39m\u001b[38;5;124m'\u001b[39m)\n\u001b[0;32m      5\u001b[0m \u001b[38;5;28;01mfor\u001b[39;00m term \u001b[38;5;129;01min\u001b[39;00m synonyms:\n",
      "\u001b[1;31mNameError\u001b[0m: name 'get_synonyms' is not defined"
     ]
    }
   ],
   "source": [
    "synonyms = get_synonyms(TERM)\n",
    "print('synonyms: these words mean the same as the search term')\n",
    "for term in synonyms:\n",
    "    print(term)"
   ]
  },
  {
   "cell_type": "code",
   "execution_count": null,
   "metadata": {},
   "outputs": [
    {
     "name": "stdout",
     "output_type": "stream",
     "text": [
      "hyponyms: these words are subordinate synonyms i.e. horse is a hyponym to animal\n",
      "['coffee_substitute']\n",
      "['decaffeinated_coffee', 'decaf']\n",
      "['cappuccino', 'cappuccino_coffee', 'coffee_cappuccino']\n",
      "['cafe_royale', 'coffee_royal']\n",
      "['Turkish_coffee']\n",
      "['instant_coffee']\n",
      "['mocha', 'mocha_coffee']\n",
      "['espresso']\n",
      "['Irish_coffee']\n",
      "['iced_coffee', 'ice_coffee']\n",
      "['drip_coffee']\n",
      "['cafe_noir', 'demitasse']\n",
      "['cafe_au_lait']\n"
     ]
    }
   ],
   "source": [
    "hyponyms = get_hyponyms(TERM)\n",
    "print('hyponyms: these words are subordinate synonyms i.e. horse is a hyponym to animal')\n",
    "for term in hyponyms:\n",
    "    print(term)"
   ]
  },
  {
   "cell_type": "code",
   "execution_count": 8,
   "metadata": {},
   "outputs": [
    {
     "name": "stdout",
     "output_type": "stream",
     "text": [
      "suggested queries: google trends suggested terms to refine search dropdown\n",
      "{'mid': '/m/02vqfm', 'title': 'Coffee', 'type': 'Beverage'}\n",
      "{'mid': '/m/078n6m', 'title': 'Coffee table', 'type': 'Topic'}\n",
      "{'mid': '/m/07xyvk', 'title': 'Coffeemaker', 'type': 'Topic'}\n",
      "{'mid': '/m/0h3nq30', 'title': 'Coffee', 'type': 'Color'}\n",
      "{'mid': '/m/01p1qs', 'title': 'French press', 'type': 'Topic'}\n"
     ]
    }
   ],
   "source": [
    "suggestions = get_suggested_queries(TERM)\n",
    "print('suggested queries: google trends suggested terms to refine search dropdown')\n",
    "for term in suggestions:\n",
    "    print(term)"
   ]
  },
  {
   "cell_type": "code",
   "execution_count": 9,
   "metadata": {},
   "outputs": [
    {
     "ename": "IndexError",
     "evalue": "list index out of range",
     "output_type": "error",
     "traceback": [
      "\u001b[1;31m---------------------------------------------------------------------------\u001b[0m",
      "\u001b[1;31mIndexError\u001b[0m                                Traceback (most recent call last)",
      "Cell \u001b[1;32mIn[9], line 1\u001b[0m\n\u001b[1;32m----> 1\u001b[0m related \u001b[38;5;241m=\u001b[39m \u001b[43mget_related_queries\u001b[49m\u001b[43m(\u001b[49m\u001b[43mTERM\u001b[49m\u001b[43m)\u001b[49m\n\u001b[0;32m      2\u001b[0m \u001b[38;5;66;03m# print('related queries: google trends related queries')\u001b[39;00m\n\u001b[0;32m      3\u001b[0m \u001b[38;5;66;03m# for term in suggestions:\u001b[39;00m\n\u001b[0;32m      4\u001b[0m \u001b[38;5;66;03m#     print(term)\u001b[39;00m\n",
      "File \u001b[1;32mc:\\Users\\carld\\OneDrive\\Python\\Workspaces\\mads_capstone\\cdebski\\get_related_terms.py:34\u001b[0m, in \u001b[0;36mget_related_queries\u001b[1;34m(term)\u001b[0m\n\u001b[0;32m     32\u001b[0m pytrends \u001b[38;5;241m=\u001b[39m TrendReq(hl\u001b[38;5;241m=\u001b[39m\u001b[38;5;124m'\u001b[39m\u001b[38;5;124men-US\u001b[39m\u001b[38;5;124m'\u001b[39m, tz\u001b[38;5;241m=\u001b[39m\u001b[38;5;241m300\u001b[39m) \n\u001b[0;32m     33\u001b[0m pytrends\u001b[38;5;241m.\u001b[39mbuild_payload([term], cat\u001b[38;5;241m=\u001b[39m\u001b[38;5;241m0\u001b[39m, timeframe\u001b[38;5;241m=\u001b[39m\u001b[38;5;124m'\u001b[39m\u001b[38;5;124mtoday 5-y\u001b[39m\u001b[38;5;124m'\u001b[39m, geo\u001b[38;5;241m=\u001b[39m\u001b[38;5;124m'\u001b[39m\u001b[38;5;124m'\u001b[39m, gprop\u001b[38;5;241m=\u001b[39m\u001b[38;5;124m'\u001b[39m\u001b[38;5;124m'\u001b[39m)\n\u001b[1;32m---> 34\u001b[0m df \u001b[38;5;241m=\u001b[39m \u001b[43mpytrends\u001b[49m\u001b[38;5;241;43m.\u001b[39;49m\u001b[43mrelated_queries\u001b[49m\u001b[43m(\u001b[49m\u001b[43m)\u001b[49m\n\u001b[0;32m     36\u001b[0m \u001b[38;5;28;01mreturn\u001b[39;00m df\n",
      "File \u001b[1;32mc:\\Users\\carld\\miniconda3\\envs\\mads\\Lib\\site-packages\\pytrends\\request.py:450\u001b[0m, in \u001b[0;36mTrendReq.related_queries\u001b[1;34m(self)\u001b[0m\n\u001b[0;32m    447\u001b[0m \u001b[38;5;66;03m# top queries\u001b[39;00m\n\u001b[0;32m    448\u001b[0m \u001b[38;5;28;01mtry\u001b[39;00m:\n\u001b[0;32m    449\u001b[0m     top_df \u001b[38;5;241m=\u001b[39m pd\u001b[38;5;241m.\u001b[39mDataFrame(\n\u001b[1;32m--> 450\u001b[0m         \u001b[43mreq_json\u001b[49m\u001b[43m[\u001b[49m\u001b[38;5;124;43m'\u001b[39;49m\u001b[38;5;124;43mdefault\u001b[39;49m\u001b[38;5;124;43m'\u001b[39;49m\u001b[43m]\u001b[49m\u001b[43m[\u001b[49m\u001b[38;5;124;43m'\u001b[39;49m\u001b[38;5;124;43mrankedList\u001b[39;49m\u001b[38;5;124;43m'\u001b[39;49m\u001b[43m]\u001b[49m\u001b[43m[\u001b[49m\u001b[38;5;241;43m0\u001b[39;49m\u001b[43m]\u001b[49m[\u001b[38;5;124m'\u001b[39m\u001b[38;5;124mrankedKeyword\u001b[39m\u001b[38;5;124m'\u001b[39m])\n\u001b[0;32m    451\u001b[0m     top_df \u001b[38;5;241m=\u001b[39m top_df[[\u001b[38;5;124m'\u001b[39m\u001b[38;5;124mquery\u001b[39m\u001b[38;5;124m'\u001b[39m, \u001b[38;5;124m'\u001b[39m\u001b[38;5;124mvalue\u001b[39m\u001b[38;5;124m'\u001b[39m]]\n\u001b[0;32m    452\u001b[0m \u001b[38;5;28;01mexcept\u001b[39;00m \u001b[38;5;167;01mKeyError\u001b[39;00m:\n\u001b[0;32m    453\u001b[0m     \u001b[38;5;66;03m# in case no top queries are found, the lines above will throw a KeyError\u001b[39;00m\n",
      "\u001b[1;31mIndexError\u001b[0m: list index out of range"
     ]
    }
   ],
   "source": [
    "related = get_related_queries(TERM)\n",
    "# print('related queries: google trends related queries')\n",
    "# for term in suggestions:\n",
    "#     print(term)"
   ]
  },
  {
   "cell_type": "code",
   "execution_count": null,
   "metadata": {},
   "outputs": [],
   "source": [
    "t = gtab.GTAB()\n",
    "t.set_options(pytrends_config={\"timeframe\": \"2020-01-01 2024-10-01\"})\n",
    "query_rog = t.new_query(\"Instant Coffee\")\n",
    "query_steam = t.new_query(\"Iced Coffee\")"
   ]
  },
  {
   "cell_type": "code",
   "execution_count": null,
   "metadata": {},
   "outputs": [],
   "source": [
    "# plot the two separate queries\n",
    "plt.plot(query_rog.index, query_rog.max_ratio, label='ROG Ally')\n",
    "plt.plot(query_steam.index, query_steam.max_ratio, label='Steam Deck')\n",
    "plt.legend()\n",
    "plt.title('Independent Google Trends Queries with the Same Scale')\n",
    "plt.show()"
   ]
  }
 ],
 "metadata": {
  "kernelspec": {
   "display_name": "mads_capstone",
   "language": "python",
   "name": "python3"
  },
  "language_info": {
   "codemirror_mode": {
    "name": "ipython",
    "version": 3
   },
   "file_extension": ".py",
   "mimetype": "text/x-python",
   "name": "python",
   "nbconvert_exporter": "python",
   "pygments_lexer": "ipython3",
   "version": "3.12.3"
  }
 },
 "nbformat": 4,
 "nbformat_minor": 2
}
