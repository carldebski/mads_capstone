{
 "cells": [
  {
   "cell_type": "code",
   "execution_count": 27,
   "metadata": {},
   "outputs": [
    {
     "name": "stdout",
     "output_type": "stream",
     "text": [
      "The autoreload extension is already loaded. To reload it, use:\n",
      "  %reload_ext autoreload\n"
     ]
    }
   ],
   "source": [
    "%load_ext autoreload\n",
    "%autoreload 2\n",
    "\n",
    "import gtab\n",
    "import matplotlib.pyplot as plt\n",
    "import gensim.downloader\n",
    "from gensim.similarities.fastss import FastSS\n",
    "import numpy as np\n",
    "\n",
    "from get_related_words import get_hypernyms\n",
    "from get_related_words import get_hyponyms\n",
    "from get_related_words import get_synonyms\n",
    "from get_related_words import get_wordnet_path_similarity\n",
    "from get_related_words import get_similar_words"
   ]
  },
  {
   "cell_type": "code",
   "execution_count": 21,
   "metadata": {},
   "outputs": [],
   "source": [
    "TERM = 'Ice Cream'"
   ]
  },
  {
   "cell_type": "code",
   "execution_count": 24,
   "metadata": {},
   "outputs": [
    {
     "name": "stdout",
     "output_type": "stream",
     "text": [
      "Loading saved model...\n",
      "[('icecreams', 0.8418611884117126), ('ice-cream', 0.8290021419525146), ('icecream', 0.7736142873764038), ('ice-creams', 0.7453774809837341), ('ice-cream', 0.7384599447250366), ('icecube', 0.7137746214866638), ('ice-', 0.6846408247947693), ('ice', 0.6809401512145996), ('ice-box', 0.6777350902557373), ('ice-cube', 0.6772070527076721), ('ice-water', 0.6720316410064697), ('ice-pack', 0.6456763744354248), ('slushie', 0.6299453377723694), ('ice-berg', 0.6293495893478394), ('ice-rink', 0.6291958093643188), ('popsicle', 0.6275215744972229), ('ice-melt', 0.6272243857383728), ('ice-bucket', 0.6266813278198242), ('ice-skate', 0.6247037649154663), ('ice-cubes', 0.6243662238121033), ('ices', 0.6242417097091675), ('milkshake', 0.6235678195953369), ('sundaes', 0.6233888268470764), ('creamer', 0.6230928301811218), ('iceman', 0.6225195527076721), ('icey', 0.621169924736023), ('icemaker', 0.6197085380554199), ('ice-cap', 0.6183856725692749), ('ice-encrusted', 0.6178804636001587), ('icee', 0.6148106455802917), ('icecaps', 0.6129254102706909), ('gummies', 0.6113882660865784), ('ice-cream', 0.609637439250946), ('cream-cheese', 0.609050452709198), ('ice-floe', 0.6083316206932068), ('iceweasel', 0.6060771346092224), ('icewater', 0.6058281660079956), ('icecap', 0.6050843000411987), ('icewine', 0.6023110151290894), ('ice-based', 0.6009541749954224), ('lolly', 0.6009153127670288), ('ice-melting', 0.6007036566734314), ('choccy', 0.6005337238311768), ('cream.', 0.6002721190452576), ('iceball', 0.6001977324485779), ('milk-chocolate', 0.5998053550720215), ('sun-cream', 0.5988193154335022), ('ice-cold', 0.5985358953475952), ('ice-breaker', 0.5979433059692383), ('slurpee', 0.5974377989768982), ('ice-nine', 0.5971997976303101), ('ice-caps', 0.5958969593048096), ('iced', 0.5958689451217651), ('salmiak', 0.5952614545822144), ('ice-laden', 0.5939646363258362), ('icebox', 0.5936614871025085), ('ice-queen', 0.5934683084487915), ('yoghurt', 0.5931448936462402), ('cat-food', 0.5926584601402283), ('chocolate', 0.5915995836257935), ('milkshakes', 0.5913597345352173), ('ice-packed', 0.5913144946098328), ('sundae', 0.5909996628761292), ('liquer', 0.5901082754135132), ('icefield', 0.5897811651229858), ('ice-axe', 0.5883984565734863), ('ice-skater', 0.5882888436317444), ('cornflake', 0.5859148502349854), ('lollies', 0.585796058177948), ('ice-cold', 0.5856488943099976), ('cream', 0.5852453708648682), ('soda-water', 0.5849208235740662), ('chocolate-covered', 0.5847116112709045), ('dogfood', 0.5843513607978821), ('icicle', 0.5843414664268494), ('cheesecake', 0.5841148495674133), ('mcflurry', 0.5829821228981018), ('gummi', 0.5827327966690063), ('gelato', 0.5818449258804321), ('ice-making', 0.5817620158195496), ('ice-out', 0.5811920166015625), ('ice-blue', 0.5804667472839355), ('chocolate-chip', 0.5801607966423035), ('catfood', 0.579939603805542), ('chocolatey', 0.5797434449195862), ('non-dairy', 0.5795682668685913), ('fruit-juice', 0.5794935822486877), ('non-chocolate', 0.5788391828536987), ('ice-fishing', 0.5782856345176697), ('soda', 0.5779592990875244), ('ice-crystal', 0.5774895548820496), ('whipped-cream', 0.5773373246192932), ('ice-climbing', 0.5770960450172424), ('choco', 0.5768271684646606), ('cloudberry', 0.5764872431755066), ('cadbury', 0.5761016011238098), ('icefields', 0.5751652121543884), ('ice-skaters', 0.5742833614349365), ('puddin', 0.573845624923706), ('iceplant', 0.5732501745223999), ('ice-class', 0.5731846690177917), ('colcannon', 0.5729490518569946), ('papper', 0.5727521777153015), ('glacé', 0.5726513862609863), ('chees', 0.5717732906341553), ('coca-cola', 0.5713712573051453), ('liquorice', 0.5707562565803528), ('iced-up', 0.5705676674842834), ('ice-shelf', 0.5704559683799744), ('ice-filled', 0.5703120827674866), ('glace', 0.5702983140945435), ('wolfie', 0.5699997544288635), ('cadburys', 0.5695915222167969), ('biscuity', 0.5691908001899719), ('fishcake', 0.5688797831535339), ('pavlovas', 0.5687333345413208), ('shortcake', 0.5685300230979919), ('popsicles', 0.5679346323013306), ('ice-bound', 0.5675946474075317), ('icehockey', 0.5671759247779846), ('snowcat', 0.5668526887893677), ('cakehole', 0.5665238499641418), ('buttercream', 0.5664114356040955), ('ice-cool', 0.5663145780563354), ('sherbet', 0.5663142800331116), ('yoghurts', 0.5662989616394043), ('dog-food', 0.5656497478485107), ('marmelade', 0.5656448006629944), ('iced-over', 0.5655896663665771), ('slushies', 0.5654622912406921), ('ice.', 0.5654622316360474), ('soda-pop', 0.5649390816688538), ('ice-9', 0.5644012689590454), ('budweiser', 0.5636695623397827), ('puddy', 0.5631341338157654), ('vegtable', 0.5631027221679688), ('maple-syrup', 0.563001811504364), ('icemakers', 0.5629878640174866), ('butterbeer', 0.5628126263618469), ('suncream', 0.5628113746643066), ('ice-cover', 0.5627721548080444), ('sodastream', 0.5624011158943176), ('gelati', 0.562044620513916), ('ice-dammed', 0.5617882609367371), ('choc', 0.5615622997283936), ('cloudberries', 0.560907244682312), ('sorbet', 0.5608797669410706), ('smoothie', 0.560614287853241), ('fro-yo', 0.5602689385414124), ('yogurt', 0.5598562359809875), ('toffee', 0.5593947172164917), ('lemonade', 0.5593885183334351), ('chocolat', 0.5590794682502747), ('sherbert', 0.5590020418167114), ('cheese', 0.558925986289978), ('custard', 0.5586928129196167), ('ice-age', 0.5585785508155823), ('ice-fields', 0.5583878755569458), ('pizza', 0.5581189393997192), ('snowberry', 0.5580047965049744), ('jam-jar', 0.5579957365989685), ('ice-floes', 0.5575998425483704), ('bikkies', 0.5575163960456848), ('caramel', 0.5574707984924316), ('frosties', 0.5567898154258728), ('softdrink', 0.5563780665397644), ('semi-frozen', 0.5563099384307861), ('white-chocolate', 0.5563008189201355), ('ice-rich', 0.5556368827819824), ('snowbank', 0.5554080605506897), ('jellybean', 0.5546964406967163), ('ice-house', 0.5545614957809448), ('snacker', 0.5545511245727539), ('salmiakki', 0.5545502305030823), ('redbull', 0.5545340776443481), ('snowmachine', 0.554236114025116), ('de-icer', 0.55399489402771), ('teacake', 0.5536362528800964), ('lemonades', 0.553490161895752), ('icefish', 0.553376317024231), ('ice-skating', 0.5533201098442078), ('snack', 0.5533066987991333), ('pieman', 0.5530275106430054), ('chocolaty', 0.5522480010986328), ('ice-hockey', 0.5520113110542297), ('lemon-lime', 0.551596462726593), ('hotdog', 0.5514992475509644), ('iceland', 0.5512498617172241), ('custardy', 0.5512474179267883), ('glacier', 0.5505672693252563), ('liqour', 0.5504889488220215), ('marmite', 0.5503256916999817), ('dairy-free', 0.5499051213264465), ('cola', 0.5496128797531128), ('cream-', 0.5495357513427734), ('vegie', 0.5492293834686279), ('pepsi', 0.5489345192909241), ('macaroon', 0.5487719774246216), ('icepack', 0.5484234690666199), ('chocolate-maker', 0.5482997298240662), ('ice-coated', 0.5481667518615723), ('melt-water', 0.5481659770011902), ('sandwitch', 0.5479704737663269), ('puckery', 0.5475643873214722), ('snowglobe', 0.5475446581840515), ('ice-breakers', 0.5473299026489258), ('7-up', 0.5472965240478516), ('frappuccino', 0.5471816658973694), ('sugar-water', 0.5470617413520813), ('popsicle', 0.5469105243682861), ('doughnut', 0.5468260645866394), ('icesheet', 0.54672771692276), ('snowcock', 0.5466289520263672), ('laker', 0.546533465385437), ('snow-globe', 0.5463523864746094), ('hotwater', 0.5462855696678162), ('jaffle', 0.5462566018104553), ('thermos', 0.546242892742157), ('vego', 0.5459749102592468), ('ice-time', 0.5459719300270081), ('orangeade', 0.5458828806877136), ('tea-tree', 0.545725405216217), ('icehouse', 0.5453555583953857), ('milk-free', 0.5453174710273743), ('strawberry-flavoured', 0.5452982187271118), ('gorp', 0.5451346039772034), ('cinnamon-sugar', 0.544857919216156), ('biscuit', 0.5446798801422119), ('toblerone', 0.5445341467857361), ('piehole', 0.5440775752067566), ('no-sugar', 0.5440760850906372), ('bilberry', 0.5440067052841187), ('de-ice', 0.543983519077301), ('vegemite', 0.5438787937164307), ('snowjob', 0.5438042879104614), ('lollypop', 0.5436955094337463), ('flapjack', 0.5436882972717285), ('ice-pick', 0.5436334013938904), ('ice-capped', 0.5434018969535828), ('custards', 0.5433266758918762), ('cream-based', 0.5431327223777771), ('icefall', 0.5428676605224609), ('snack-food', 0.5426229238510132), ('choccie', 0.5424709320068359), ('fernet', 0.5424271821975708), ('rockhopper', 0.542404294013977), ('snow-packed', 0.5423729419708252), ('brekkie', 0.5423714518547058), ('cherry-flavored', 0.541915237903595), ('cheese-based', 0.5418045520782471)]\n"
     ]
    },
    {
     "data": {
      "text/plain": [
       "{'icecream': ['ice-laden',\n",
       "  'hotdog',\n",
       "  'ice-cold',\n",
       "  'chocolate',\n",
       "  'frappuccino',\n",
       "  'flapjack',\n",
       "  'ice-',\n",
       "  'chocolate-chip',\n",
       "  'pizza',\n",
       "  'cloudberry',\n",
       "  'ice-bucket',\n",
       "  'ice-filled',\n",
       "  'piehole',\n",
       "  'teacake',\n",
       "  'marmite',\n",
       "  'lolly',\n",
       "  'yoghurt',\n",
       "  'ice-cap',\n",
       "  'vego',\n",
       "  'bilberry',\n",
       "  'ice-fishing',\n",
       "  'snowjob',\n",
       "  'ice-nine',\n",
       "  'iceball',\n",
       "  'soda',\n",
       "  'ice-encrusted',\n",
       "  'sherbet',\n",
       "  'budweiser',\n",
       "  'liquorice',\n",
       "  'pavlovas',\n",
       "  'ice-out',\n",
       "  'snowmachine',\n",
       "  'fro-yo',\n",
       "  'mcflurry',\n",
       "  'tea-tree',\n",
       "  'orangeade',\n",
       "  'ice-breaker',\n",
       "  'ice-skate',\n",
       "  'ice-time',\n",
       "  'cola',\n",
       "  'dairy-free',\n",
       "  'liquer',\n",
       "  'glacier',\n",
       "  'ice-cover',\n",
       "  'doughnut',\n",
       "  'melt-water',\n",
       "  'ice-melting',\n",
       "  'ice-class',\n",
       "  'slurpee',\n",
       "  'snowglobe']}"
      ]
     },
     "execution_count": 24,
     "metadata": {},
     "output_type": "execute_result"
    }
   ],
   "source": [
    "#terms = get_similar_words(TERM, n_words=50)\n",
    "get_similar_words(TERM, n_words=50)"
   ]
  },
  {
   "cell_type": "code",
   "execution_count": 53,
   "metadata": {},
   "outputs": [],
   "source": [
    "path_similarities = [get_wordnet_path_similarity(TERM, t) for t in terms[TERM]]"
   ]
  },
  {
   "cell_type": "code",
   "execution_count": null,
   "metadata": {},
   "outputs": [
    {
     "name": "stdout",
     "output_type": "stream",
     "text": [
      "[(1.0, 'coffee'), (0.5, 'espresso'), (0.5, 'decaf'), (0.5, 'cappuccinos'), (0.5, 'cappuccino'), (0.3333333333333333, 'tea'), (0.3333333333333333, 'cocoa'), (0.3333333333333333, 'chocolate'), (0.25, 'cuppers'), (0.25, 'cupper'), (0.25, 'cuppas'), (0.25, 'cuppa'), (0.2, 'beer'), (0.09090909090909091, 'decaffeinated'), (0.09090909090909091, 'beans'), (0.08333333333333333, 'roasters'), (0.08333333333333333, 'roaster'), (0.07692307692307693, 'coffeehouse'), (0.07692307692307693, 'cafe'), (0.07142857142857142, 'creamer'), (0.07142857142857142, 'coffeepot'), (0, 'tea-'), (0, 'starbucks'), (0, 'softdrinks'), (0, 'roastery'), (0, 'non-coffee'), (0, 'fruit-juice'), (0, 'frappucino'), (0, 'frappuccinos'), (0, 'frappuccino'), (0, 'frappuccino'), (0, 'decaffeination'), (0, 'decaff'), (0, 'coffeeshops'), (0, 'coffeeshop'), (0, 'coffeemaker'), (0, 'coffee-shop'), (0, 'coffee-pot'), (0, 'coffee-making'), (0, 'coffee-maker'), (0, 'coffee-house'), (0, 'coffee-flavoured'), (0, 'coffee-flavored'), (0, 'coffee-drinking'), (0, 'coffee-cup'), (0, 'coffee-break'), (0, 'coffee-based'), (0, 'cappucino'), (0, 'caffe'), (0, 'banoffee')]\n"
     ]
    }
   ],
   "source": [
    "sorted(list(zip(path_similarities, terms[TERM])), reverse=True)"
   ]
  },
  {
   "cell_type": "code",
   "execution_count": 29,
   "metadata": {},
   "outputs": [
    {
     "name": "stdout",
     "output_type": "stream",
     "text": [
      "hypernyms: frozen_dessert\n"
     ]
    }
   ],
   "source": [
    "hypernyms = get_hypernyms('icecream')\n",
    "print('hypernyms: {}'.format(hypernyms))"
   ]
  },
  {
   "cell_type": "code",
   "execution_count": 30,
   "metadata": {},
   "outputs": [
    {
     "name": "stdout",
     "output_type": "stream",
     "text": [
      "synonyms: [['ice_cream']]\n"
     ]
    }
   ],
   "source": [
    "synonyms = get_synonyms('icecream')\n",
    "print('synonyms: {}'.format(synonyms))"
   ]
  },
  {
   "cell_type": "code",
   "execution_count": 40,
   "metadata": {},
   "outputs": [
    {
     "name": "stdout",
     "output_type": "stream",
     "text": [
      "synonyms: [['frozen_pudding'], ['ice-cream_cake', 'icebox_cake'], ['frozen_custard', 'soft_ice_cream'], ['ice_lolly', 'lolly', 'lollipop', 'popsicle'], ['ice_milk'], ['split'], ['snowball'], ['ice_cream', 'icecream'], ['ice-cream_sundae', 'sundae'], ['ice', 'frappe'], ['frozen_yogurt'], ['parfait'], ['snowball'], ['ice-cream_cone'], ['sherbert', 'sherbet']]\n"
     ]
    }
   ],
   "source": [
    "hyponyms = get_hyponyms('frozen_dessert')\n",
    "print('synonyms: {}'.format(hyponyms))"
   ]
  },
  {
   "cell_type": "code",
   "execution_count": 47,
   "metadata": {},
   "outputs": [
    {
     "data": {
      "text/plain": [
       "0.3333333333333333"
      ]
     },
     "execution_count": 47,
     "metadata": {},
     "output_type": "execute_result"
    }
   ],
   "source": [
    "get_wordnet_path_similarity(TERM, 'tea')"
   ]
  },
  {
   "cell_type": "code",
   "execution_count": null,
   "metadata": {},
   "outputs": [
    {
     "name": "stdout",
     "output_type": "stream",
     "text": [
      "[Synset('ice_cream.n.01')]\n"
     ]
    }
   ],
   "source": [
    "from nltk.corpus import wordnet as wn\n",
    "print(wn.synsets('icecream'))"
   ]
  },
  {
   "cell_type": "code",
   "execution_count": null,
   "metadata": {},
   "outputs": [],
   "source": []
  }
 ],
 "metadata": {
  "kernelspec": {
   "display_name": "mads_capstone",
   "language": "python",
   "name": "python3"
  },
  "language_info": {
   "codemirror_mode": {
    "name": "ipython",
    "version": 3
   },
   "file_extension": ".py",
   "mimetype": "text/x-python",
   "name": "python",
   "nbconvert_exporter": "python",
   "pygments_lexer": "ipython3",
   "version": "3.12.3"
  }
 },
 "nbformat": 4,
 "nbformat_minor": 2
}
