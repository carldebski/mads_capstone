{
 "cells": [
  {
   "cell_type": "code",
   "execution_count": null,
   "id": "52969b2e-02f4-48e4-87a2-5d8b85bb8ce4",
   "metadata": {},
   "outputs": [],
   "source": [
    "# Although no meaningful portion was copied directly, this work was made in collaboration with ChatGPT"
   ]
  },
  {
   "cell_type": "code",
   "execution_count": 1,
   "id": "8c1e0bc1-3444-45ec-a724-c2db1d180f01",
   "metadata": {},
   "outputs": [],
   "source": [
    "#pip install urllib3==1.26.19"
   ]
  },
  {
   "cell_type": "code",
   "execution_count": 2,
   "id": "ea4917af-4a6a-4f62-901f-27bbc3a71847",
   "metadata": {},
   "outputs": [],
   "source": [
    "#pip install argparse # used for the corresponding script"
   ]
  },
  {
   "cell_type": "code",
   "execution_count": 1,
   "id": "3c114e15-eecb-4a77-b397-4e1275f2cf19",
   "metadata": {},
   "outputs": [],
   "source": [
    "import pandas as pd   \n",
    "import numpy as np\n",
    "import pytrends\n",
    "from pytrends.request import TrendReq\n",
    "import gtab\n",
    "import matplotlib.pyplot as plt"
   ]
  },
  {
   "cell_type": "code",
   "execution_count": 2,
   "id": "1e464507-5f5f-492b-9237-e452e8f74d58",
   "metadata": {},
   "outputs": [],
   "source": [
    "def get_single_keyword_trend_data_gtab(keyword, region='US', time_period='2020-01-01 2024-10-11'):\n",
    "    \"\"\"\n",
    "    Query Google Trends data using GTAB for a single keyword, region, and time period.\n",
    "    \n",
    "    Args:\n",
    "        keyword (str): The keyword to search.\n",
    "        region (str): Region code (default is 'US').\n",
    "        time_period (str): Timeframe for the data (default is '2020-01-01 2024-10-11').\n",
    "    \n",
    "    Returns:\n",
    "        pd.DataFrame: Google Trends data for the keyword with Date and Max Ratio (Interest) columns.\n",
    "    \"\"\"\n",
    "    # Initialize GTAB object\n",
    "    t = gtab.GTAB()\n",
    "\n",
    "    try:\n",
    "        # Ensure keyword is a non-empty string\n",
    "        if not keyword or not isinstance(keyword, str):\n",
    "            raise ValueError(\"Invalid keyword provided.\")\n",
    "        \n",
    "        print(f\"Querying keyword: {keyword} in region: {region} for the period {time_period}\")\n",
    "        \n",
    "        # Query Google Trends using GTAB\n",
    "        t.set_options(pytrends_config={\"timeframe\": time_period, 'geo': region})\n",
    "        trend_data = t.new_query(keyword)\n",
    "        \n",
    "      # Check if data is empty\n",
    "        if trend_data.empty:\n",
    "            print(f\"No data found for keyword: {keyword}\")\n",
    "            return None\n",
    "        \n",
    "        # Rename 'max_ratio' to the keyword\n",
    "        trend_data = trend_data[['max_ratio']].rename(columns={'max_ratio': keyword})\n",
    "        \n",
    "        # Reset the index to move 'date' from the index to a column\n",
    "        trend_data = trend_data.reset_index()\n",
    "\n",
    "        return trend_data\n",
    "\n",
    "    except Exception as e:\n",
    "        print(f\"An error occurred: {e}\")\n",
    "        return None"
   ]
  },
  {
   "cell_type": "code",
   "execution_count": 4,
   "id": "ee0ac41f-4f20-4346-8cd1-1a3b38e4fc83",
   "metadata": {},
   "outputs": [
    {
     "name": "stdin",
     "output_type": "stream",
     "text": [
      "Enter the keywords to search for trends (comma separated):  tablet\n",
      "Enter the region code (e.g., 'US-MI' for Michigan, 'US' for the entire USA):  US\n"
     ]
    },
    {
     "name": "stdout",
     "output_type": "stream",
     "text": [
      "Using directory '/Users/Jenny/MADS/Capstone/myenv/lib/python3.12/site-packages/gtab'\n",
      "Active anchorbank changed to: google_anchorbank_geo=_timeframe=2019-01-01 2020-08-01.tsv\n",
      "\n",
      "Querying keyword: tablet in region: US for the period 2020-01-01 2024-10-11\n",
      "Using /Users/Jenny/MADS/Capstone/myenv/lib/python3.12/site-packages/gtab/output/google_anchorbanks/google_anchorbank_geo=_timeframe=2019-01-01 2020-08-01.tsv\n",
      "New query 'tablet'\n",
      "An error occurred: HTTPSConnectionPool(host='trends.google.com', port=443): Max retries exceeded with url: /trends/api/widgetdata/multiline?req=%7B%22time%22%3A+%222020-01-01+2024-10-11%22%2C+%22resolution%22%3A+%22WEEK%22%2C+%22locale%22%3A+%22en-US%22%2C+%22comparisonItem%22%3A+%5B%7B%22geo%22%3A+%7B%22country%22%3A+%22US%22%7D%2C+%22complexKeywordsRestriction%22%3A+%7B%22keyword%22%3A+%5B%7B%22type%22%3A+%22BROAD%22%2C+%22value%22%3A+%22tablet%22%7D%5D%7D%7D%5D%2C+%22requestOptions%22%3A+%7B%22property%22%3A+%22%22%2C+%22backend%22%3A+%22IZG%22%2C+%22category%22%3A+0%7D%2C+%22userConfig%22%3A+%7B%22userType%22%3A+%22USER_TYPE_SCRAPER%22%7D%7D&token=APP6_UEAAAAAZ0b1oE66dRzgqJ9qtYylcj5rZUstgqZn&tz=360 (Caused by ResponseError('too many 429 error responses'))\n"
     ]
    }
   ],
   "source": [
    "if __name__ == \"__main__\":\n",
    "    import pandas as pd\n",
    "\n",
    "    # List of keywords to query\n",
    "    keywords = input(\"Enter the keywords to search for trends (comma separated): \").split(',')\n",
    "    keywords = [kw.strip() for kw in keywords if kw.strip()]  # Clean whitespace and filter out empty strings\n",
    "\n",
    "    # Set up region and time period\n",
    "    region = input(\"Enter the region code (e.g., 'US-MI' for Michigan, 'US' for the entire USA): \").strip()\n",
    "\n",
    "    # Initialize an empty DataFrame to hold combined results\n",
    "    combined_trend_data = pd.DataFrame()\n",
    "\n",
    "    # Loop through each keyword and merge the results\n",
    "    for keyword in keywords:\n",
    "        trend_data = get_single_keyword_trend_data_gtab(keyword, region)\n",
    "\n",
    "        if trend_data is not None:\n",
    "            if combined_trend_data.empty:\n",
    "                combined_trend_data = trend_data\n",
    "            else:\n",
    "                # Merge the current keyword's data into the combined DataFrame on 'date'\n",
    "                combined_trend_data = pd.merge(combined_trend_data, trend_data, on='date', how='outer')\n"
   ]
  },
  {
   "cell_type": "code",
   "execution_count": 14,
   "id": "3aa811be-f31f-4c03-ab53-88ef9e950780",
   "metadata": {},
   "outputs": [],
   "source": [
    "combined_trend_data.to_csv('ComputerStore_trend_data.csv', index=False)"
   ]
  },
  {
   "cell_type": "code",
   "execution_count": 8,
   "id": "b2c4517a-75a6-4075-8a71-a6545c6fe89a",
   "metadata": {},
   "outputs": [
    {
     "data": {
      "text/html": [
       "<div>\n",
       "<style scoped>\n",
       "    .dataframe tbody tr th:only-of-type {\n",
       "        vertical-align: middle;\n",
       "    }\n",
       "\n",
       "    .dataframe tbody tr th {\n",
       "        vertical-align: top;\n",
       "    }\n",
       "\n",
       "    .dataframe thead th {\n",
       "        text-align: right;\n",
       "    }\n",
       "</style>\n",
       "<table border=\"1\" class=\"dataframe\">\n",
       "  <thead>\n",
       "    <tr style=\"text-align: right;\">\n",
       "      <th></th>\n",
       "      <th>date</th>\n",
       "      <th>computer</th>\n",
       "      <th>phone</th>\n",
       "      <th>tablet</th>\n",
       "    </tr>\n",
       "  </thead>\n",
       "  <tbody>\n",
       "    <tr>\n",
       "      <th>0</th>\n",
       "      <td>2019-12-29</td>\n",
       "      <td>69.549425</td>\n",
       "      <td>383.581733</td>\n",
       "      <td>24.932813</td>\n",
       "    </tr>\n",
       "    <tr>\n",
       "      <th>1</th>\n",
       "      <td>2020-01-05</td>\n",
       "      <td>80.047451</td>\n",
       "      <td>383.581733</td>\n",
       "      <td>22.308306</td>\n",
       "    </tr>\n",
       "    <tr>\n",
       "      <th>2</th>\n",
       "      <td>2020-01-12</td>\n",
       "      <td>80.047451</td>\n",
       "      <td>388.628861</td>\n",
       "      <td>20.996053</td>\n",
       "    </tr>\n",
       "    <tr>\n",
       "      <th>3</th>\n",
       "      <td>2020-01-19</td>\n",
       "      <td>74.798438</td>\n",
       "      <td>348.251836</td>\n",
       "      <td>22.308306</td>\n",
       "    </tr>\n",
       "    <tr>\n",
       "      <th>4</th>\n",
       "      <td>2020-01-26</td>\n",
       "      <td>74.798438</td>\n",
       "      <td>358.346092</td>\n",
       "      <td>19.683799</td>\n",
       "    </tr>\n",
       "    <tr>\n",
       "      <th>...</th>\n",
       "      <td>...</td>\n",
       "      <td>...</td>\n",
       "      <td>...</td>\n",
       "      <td>...</td>\n",
       "    </tr>\n",
       "    <tr>\n",
       "      <th>245</th>\n",
       "      <td>2024-09-08</td>\n",
       "      <td>78.735198</td>\n",
       "      <td>368.440349</td>\n",
       "      <td>19.683799</td>\n",
       "    </tr>\n",
       "    <tr>\n",
       "      <th>246</th>\n",
       "      <td>2024-09-15</td>\n",
       "      <td>74.798438</td>\n",
       "      <td>363.393221</td>\n",
       "      <td>19.683799</td>\n",
       "    </tr>\n",
       "    <tr>\n",
       "      <th>247</th>\n",
       "      <td>2024-09-22</td>\n",
       "      <td>80.047451</td>\n",
       "      <td>373.487477</td>\n",
       "      <td>19.683799</td>\n",
       "    </tr>\n",
       "    <tr>\n",
       "      <th>248</th>\n",
       "      <td>2024-09-29</td>\n",
       "      <td>70.861678</td>\n",
       "      <td>378.534605</td>\n",
       "      <td>20.996053</td>\n",
       "    </tr>\n",
       "    <tr>\n",
       "      <th>249</th>\n",
       "      <td>2024-10-06</td>\n",
       "      <td>70.861678</td>\n",
       "      <td>358.346092</td>\n",
       "      <td>19.683799</td>\n",
       "    </tr>\n",
       "  </tbody>\n",
       "</table>\n",
       "<p>250 rows × 4 columns</p>\n",
       "</div>"
      ],
      "text/plain": [
       "          date   computer       phone     tablet\n",
       "0   2019-12-29  69.549425  383.581733  24.932813\n",
       "1   2020-01-05  80.047451  383.581733  22.308306\n",
       "2   2020-01-12  80.047451  388.628861  20.996053\n",
       "3   2020-01-19  74.798438  348.251836  22.308306\n",
       "4   2020-01-26  74.798438  358.346092  19.683799\n",
       "..         ...        ...         ...        ...\n",
       "245 2024-09-08  78.735198  368.440349  19.683799\n",
       "246 2024-09-15  74.798438  363.393221  19.683799\n",
       "247 2024-09-22  80.047451  373.487477  19.683799\n",
       "248 2024-09-29  70.861678  378.534605  20.996053\n",
       "249 2024-10-06  70.861678  358.346092  19.683799\n",
       "\n",
       "[250 rows x 4 columns]"
      ]
     },
     "execution_count": 8,
     "metadata": {},
     "output_type": "execute_result"
    }
   ],
   "source": [
    "combined_trend_data"
   ]
  },
  {
   "cell_type": "code",
   "execution_count": null,
   "id": "71523b91-961f-4296-bcc5-dbb780db1485",
   "metadata": {},
   "outputs": [],
   "source": []
  }
 ],
 "metadata": {
  "kernelspec": {
   "display_name": "Python 3 (ipykernel)",
   "language": "python",
   "name": "python3"
  },
  "language_info": {
   "codemirror_mode": {
    "name": "ipython",
    "version": 3
   },
   "file_extension": ".py",
   "mimetype": "text/x-python",
   "name": "python",
   "nbconvert_exporter": "python",
   "pygments_lexer": "ipython3",
   "version": "3.12.7"
  }
 },
 "nbformat": 4,
 "nbformat_minor": 5
}
